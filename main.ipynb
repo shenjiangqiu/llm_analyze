{
 "cells": [
  {
   "cell_type": "code",
   "execution_count": 2,
   "metadata": {},
   "outputs": [
    {
     "name": "stderr",
     "output_type": "stream",
     "text": [
      "/home/sjq/git/llm_analyze/.pyenv/lib/python3.11/site-packages/tqdm/auto.py:21: TqdmWarning: IProgress not found. Please update jupyter and ipywidgets. See https://ipywidgets.readthedocs.io/en/stable/user_install.html\n",
      "  from .autonotebook import tqdm as notebook_tqdm\n"
     ]
    }
   ],
   "source": [
    "import tools\n",
    "from transformers import (\n",
    "    BertTokenizer,\n",
    "    BertModel,\n",
    "    GPT2Tokenizer,\n",
    "    GPT2Model,\n",
    "    LlamaTokenizer,\n",
    "    LlamaModel,\n",
    ")\n",
    "import polars as pl\n"
   ]
  },
  {
   "cell_type": "code",
   "execution_count": 3,
   "metadata": {},
   "outputs": [
    {
     "name": "stdout",
     "output_type": "stream",
     "text": [
      "Bert:BertModel(\n",
      "  (embeddings): BertEmbeddings(\n",
      "    (word_embeddings): Embedding(30522, 768, padding_idx=0)\n",
      "    (position_embeddings): Embedding(512, 768)\n",
      "    (token_type_embeddings): Embedding(2, 768)\n",
      "    (LayerNorm): LayerNorm((768,), eps=1e-12, elementwise_affine=True)\n",
      "    (dropout): Dropout(p=0.1, inplace=False)\n",
      "  )\n",
      "  (encoder): BertEncoder(\n",
      "    (layer): ModuleList(\n",
      "      (0-11): 12 x BertLayer(\n",
      "        (attention): BertAttention(\n",
      "          (self): BertSelfAttention(\n",
      "            (query): Linear(in_features=768, out_features=768, bias=True)\n",
      "            (key): Linear(in_features=768, out_features=768, bias=True)\n",
      "            (value): Linear(in_features=768, out_features=768, bias=True)\n",
      "            (dropout): Dropout(p=0.1, inplace=False)\n",
      "          )\n",
      "          (output): BertSelfOutput(\n",
      "            (dense): Linear(in_features=768, out_features=768, bias=True)\n",
      "            (LayerNorm): LayerNorm((768,), eps=1e-12, elementwise_affine=True)\n",
      "            (dropout): Dropout(p=0.1, inplace=False)\n",
      "          )\n",
      "        )\n",
      "        (intermediate): BertIntermediate(\n",
      "          (dense): Linear(in_features=768, out_features=3072, bias=True)\n",
      "          (intermediate_act_fn): GELUActivation()\n",
      "        )\n",
      "        (output): BertOutput(\n",
      "          (dense): Linear(in_features=3072, out_features=768, bias=True)\n",
      "          (LayerNorm): LayerNorm((768,), eps=1e-12, elementwise_affine=True)\n",
      "          (dropout): Dropout(p=0.1, inplace=False)\n",
      "        )\n",
      "      )\n",
      "    )\n",
      "  )\n",
      "  (pooler): BertPooler(\n",
      "    (dense): Linear(in_features=768, out_features=768, bias=True)\n",
      "    (activation): Tanh()\n",
      "  )\n",
      ")\n"
     ]
    }
   ],
   "source": [
    "model = BertModel.from_pretrained(\"bert-base-uncased\")\n",
    "tokenizer = BertTokenizer.from_pretrained(\"bert-base-uncased\")\n",
    "print(f\"Bert:{model}\")"
   ]
  },
  {
   "cell_type": "code",
   "execution_count": 4,
   "metadata": {},
   "outputs": [
    {
     "name": "stdout",
     "output_type": "stream",
     "text": [
      "GPT2:GPT2Model(\n",
      "  (wte): Embedding(50257, 768)\n",
      "  (wpe): Embedding(1024, 768)\n",
      "  (drop): Dropout(p=0.1, inplace=False)\n",
      "  (h): ModuleList(\n",
      "    (0-11): 12 x GPT2Block(\n",
      "      (ln_1): LayerNorm((768,), eps=1e-05, elementwise_affine=True)\n",
      "      (attn): GPT2Attention(\n",
      "        (c_attn): Conv1D()\n",
      "        (c_proj): Conv1D()\n",
      "        (attn_dropout): Dropout(p=0.1, inplace=False)\n",
      "        (resid_dropout): Dropout(p=0.1, inplace=False)\n",
      "      )\n",
      "      (ln_2): LayerNorm((768,), eps=1e-05, elementwise_affine=True)\n",
      "      (mlp): GPT2MLP(\n",
      "        (c_fc): Conv1D()\n",
      "        (c_proj): Conv1D()\n",
      "        (act): NewGELUActivation()\n",
      "        (dropout): Dropout(p=0.1, inplace=False)\n",
      "      )\n",
      "    )\n",
      "  )\n",
      "  (ln_f): LayerNorm((768,), eps=1e-05, elementwise_affine=True)\n",
      ")\n"
     ]
    }
   ],
   "source": [
    "model = GPT2Model.from_pretrained(\"gpt2\")\n",
    "tokenizer = GPT2Tokenizer.from_pretrained(\"gpt2\")\n",
    "print(f\"GPT2:{model}\")"
   ]
  },
  {
   "cell_type": "code",
   "execution_count": 5,
   "metadata": {},
   "outputs": [
    {
     "name": "stderr",
     "output_type": "stream",
     "text": [
      "Loading checkpoint shards: 100%|██████████| 2/2 [00:30<00:00, 15.10s/it]"
     ]
    },
    {
     "name": "stdout",
     "output_type": "stream",
     "text": [
      "LlamaModel(\n",
      "  (embed_tokens): Embedding(32000, 4096)\n",
      "  (layers): ModuleList(\n",
      "    (0-31): 32 x LlamaDecoderLayer(\n",
      "      (self_attn): LlamaSdpaAttention(\n",
      "        (q_proj): Linear(in_features=4096, out_features=4096, bias=False)\n",
      "        (k_proj): Linear(in_features=4096, out_features=4096, bias=False)\n",
      "        (v_proj): Linear(in_features=4096, out_features=4096, bias=False)\n",
      "        (o_proj): Linear(in_features=4096, out_features=4096, bias=False)\n",
      "        (rotary_emb): LlamaRotaryEmbedding()\n",
      "      )\n",
      "      (mlp): LlamaMLP(\n",
      "        (gate_proj): Linear(in_features=4096, out_features=11008, bias=False)\n",
      "        (up_proj): Linear(in_features=4096, out_features=11008, bias=False)\n",
      "        (down_proj): Linear(in_features=11008, out_features=4096, bias=False)\n",
      "        (act_fn): SiLU()\n",
      "      )\n",
      "      (input_layernorm): LlamaRMSNorm()\n",
      "      (post_attention_layernorm): LlamaRMSNorm()\n",
      "    )\n",
      "  )\n",
      "  (norm): LlamaRMSNorm()\n",
      ")\n"
     ]
    },
    {
     "name": "stderr",
     "output_type": "stream",
     "text": [
      "\n"
     ]
    }
   ],
   "source": [
    "model = LlamaModel.from_pretrained(\"meta-llama/Llama-2-7b-hf\")\n",
    "\n",
    "print(model)"
   ]
  },
  {
   "cell_type": "markdown",
   "metadata": {},
   "source": [
    "# the distribution methods\n",
    "1. distributed by batch(lock step of block)\n",
    "    1. no copy, in single block\n",
    "    1. need n copy of weights in every step.(broad cast the weight)\n",
    "1. distributed by batch (distributed block) ( each pe compute a block)\n",
    "    1. load full weights and attention, generate 1x4096, no communication\n",
    "1. distributed by projection weight\n",
    "    1. distributed by rows: (broadcase input(1x4096), no communication, generate N output (1x4096/n))\n",
    "    1. distributed by cols: (each fetch 1/n input). need reduction(n part of 1x4096) , genrate 1 output(1x4096)\n",
    "1. distributed by attention tokens\n",
    "    1. distributed by headers( accecpt distributed KQV by col and distributed input, generate distributed V (1x4096 / n ), no communication)\n",
    "    1. distributed by tokens ( accept distibuted KQV by token and broadcast input, need reduction, generate 1 output)\n",
    "1. distributed by ffn\n",
    "    1. distribted all by rows:(broadcase input(1x4096), no communication, generate N output (1x4096/n)) then reduce and broadcast ( then ) (no communication, generate N output (1x4096/n))\n",
    "    1. distributed by cols: (accept distributed input, need reduction, generate 1 output), then scatter the output(1/n) then (accept distributed input, need reduction, generate 1 output)\n",
    "    1. row + col: (broadcase input(1x4096), no communication, generate N output (1x4096/n)) then (accept distributed input, need reduction, generate 1 output)\n",
    "    1. col + row: (accept distributed input, need reduction, generate 1 output) then (broadcase input(1x4096), no communication, generate N output (1x4096/n))\n",
    "\n",
    "# motivation:\n",
    "1. the broadcast is cheap: only one shared bus can achive\n",
    "2. the scatter or gether is expensive: if each pe need different data, the bus need N iterations to send data\n",
    "3. the reduction is cheap: only need local bus to do tree-like reduction: O(logn) time and no extra connection\n",
    "4. so, need to avoid scatter. only broadcast and reduction.\n",
    "# workflow:\n",
    "1. accept  broadcast  input -> project distributed by rows -> attention distributed by headers(or sub header) -> ffn col + row,  + generate distributed input\n",
    "    - no scatter. 1 reduction in col + row, 1 broadcast in col+ row\n",
    "2. accept distributed input -> project by cols -> distributed by tokens -> row + col -> generate full output\n",
    "    - no scatter, reduction + prodcast in projection, reduction+broadcast in att, not in FFN, generate distributed output. \n",
    "\n",
    "# scalability\n",
    "\n",
    "# situations\n",
    "1. multiple batched input: \n",
    "    - best fr 2.1 to distribute the tasks into multiple PE\n",
    "    - or use 1.1 2.1, stack the same step into same PE\n",
    "2. single task, short sequence.\n",
    "    - should distribute the weights or headers \n",
    "3. single task, long sequence.\n",
    "    - should distribute the tokens \n",
    "4. combined:\n",
    "    1. multiple batch, short seqence.\n",
    "    2. multiple batch, long seqence.\n",
    "\n",
    "# challenges\n",
    "1. need to scales\n",
    "2. need to fast broadcast and reduction\n",
    "3. need to have mode transform\n",
    "\n",
    "# solution\n",
    "1. a good connection design and route mechanism."
   ]
  }
 ],
 "metadata": {
  "kernelspec": {
   "display_name": ".pyenv",
   "language": "python",
   "name": "python3"
  },
  "language_info": {
   "codemirror_mode": {
    "name": "ipython",
    "version": 3
   },
   "file_extension": ".py",
   "mimetype": "text/x-python",
   "name": "python",
   "nbconvert_exporter": "python",
   "pygments_lexer": "ipython3",
   "version": "3.11.8"
  }
 },
 "nbformat": 4,
 "nbformat_minor": 2
}
